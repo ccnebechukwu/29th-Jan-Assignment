{
 "cells": [
  {
   "cell_type": "markdown",
   "id": "ae789f55-d352-49c2-9fa9-7c20f7cb6d9b",
   "metadata": {},
   "source": [
    "## DATA SCIENCE MASTERS - PW SKILLS"
   ]
  },
  {
   "cell_type": "markdown",
   "id": "0ea2aad0-681f-4591-8ba5-d2f36015d9cc",
   "metadata": {},
   "source": [
    "## 29th Jan Assignment "
   ]
  },
  {
   "cell_type": "markdown",
   "id": "f1cf17cd-7df7-4f12-aa0a-11f31e4e3483",
   "metadata": {},
   "source": [
    "### Question 1: Who developed Python Programming Language?\n",
    "\n",
    "Answer: Guido Van Rossum"
   ]
  },
  {
   "cell_type": "markdown",
   "id": "14ee5f00-ebf4-415d-812c-76c68f7eb74d",
   "metadata": {},
   "source": [
    "### Question 2: Which type of Programming does Python support?\n",
    "\n",
    "Answer: Python supports:\n",
    "1. Functional Programming\n",
    "2. Structured Programming\n",
    "3. Object Oriented Programming"
   ]
  },
  {
   "cell_type": "markdown",
   "id": "397d0079-21c9-44e3-9da0-f9b2d86bb570",
   "metadata": {},
   "source": [
    "### Question 3: Is Python case sensitive when dealing with identifiers?\n",
    "\n",
    "Answer: Yes. Python is a case sensitive programming language and it's case sensitive when dealing with identifiers."
   ]
  },
  {
   "cell_type": "markdown",
   "id": "f011e60e-387f-4867-ada5-2b14f128a7bd",
   "metadata": {},
   "source": [
    "### Question 4: What is the correct extension of the python file?\n",
    "\n",
    "Answer: The correct extension of the Python file is .py"
   ]
  },
  {
   "cell_type": "markdown",
   "id": "351cc57f-2136-4752-ad35-c39065fed8d1",
   "metadata": {},
   "source": [
    "### Question 5: Is Python code compiled or interpreted?\n",
    "\n",
    "Answer: Python code is Interpreted."
   ]
  },
  {
   "cell_type": "markdown",
   "id": "4d617db9-ba45-4000-9c27-140e82aa4f12",
   "metadata": {},
   "source": [
    "### Question 6: Name a few blocks of code used to define in Python Language?\n",
    "\n",
    "Answer: def function_name():"
   ]
  },
  {
   "cell_type": "markdown",
   "id": "98b86c29-d782-4be1-be8a-c1d34bbb4d12",
   "metadata": {},
   "source": [
    "### Question 7: State a character used to give single-line comments in Python?\n",
    "\n",
    "Answer: A character used to give single-line comment in Python is the hashtag (#) symbol."
   ]
  },
  {
   "cell_type": "markdown",
   "id": "bba8556d-10a3-4ef8-982f-174cf2655d93",
   "metadata": {},
   "source": [
    "### Question 8: Mention functions which can help us to find the version of python that we are currently working on?\n",
    "\n",
    "Answer: The function is:\n",
    "    \n",
    "import sys\n",
    "\n",
    "print(sys.version)"
   ]
  },
  {
   "cell_type": "markdown",
   "id": "f10c3e74-25da-4f40-9d14-c40e4c32a929",
   "metadata": {},
   "source": [
    "### Question 9: Python supports the creation of anonymous functions at runtime, using a construct called?\n",
    "\n",
    "Answer: Lambda"
   ]
  },
  {
   "cell_type": "markdown",
   "id": "efce8fb1-db11-4dbf-9952-5be6cf9c3808",
   "metadata": {},
   "source": [
    "### Question 10: What does pip stand for python?\n",
    "\n",
    "Answer: pip is used for managing packages or modules in Python."
   ]
  },
  {
   "cell_type": "markdown",
   "id": "d26d04e9-9669-4fee-a7bd-4cf7822d2724",
   "metadata": {},
   "source": [
    "### Question 11: Mention a few built-in functions in python?\n",
    "\n",
    "Answers: \n",
    "1. input() => This allows user input\n",
    "2. float() => This returns a float\n",
    "3. int() => This returns an integer value\n",
    "4. dict() => This returns a dictionary\n",
    "5. abs() => This returns absolute value of a given number\n",
    "    "
   ]
  },
  {
   "cell_type": "markdown",
   "id": "ef08a752-43b3-4924-b662-fa001455b8f6",
   "metadata": {},
   "source": [
    "### Question 12: What is the maximum possible lenght of an identifier in python?\n",
    "\n",
    "Answer: The maximum possible lenght of an identifier in python is 79 characters."
   ]
  },
  {
   "cell_type": "markdown",
   "id": "eb2d8744-d00c-4f18-8b5b-ecb25d2f66df",
   "metadata": {},
   "source": [
    "### Question 13: What are the benefits of using python?\n",
    "\n",
    "Answer: \n",
    "1. It's open source and free\n",
    "2. It's easy to learn\n",
    "3. It has huge community support\n",
    "4. It has huge supporting libraries\n",
    "5. It's fun to use\n",
    "6. It's easily scalable"
   ]
  },
  {
   "cell_type": "markdown",
   "id": "8b7efcde-a882-4c98-aeb5-682cb9b62823",
   "metadata": {},
   "source": [
    "### Question 14: How is memory managed in Python?\n",
    "\n",
    "Answer: In Python, memory is managed by python private heap space."
   ]
  },
  {
   "cell_type": "markdown",
   "id": "44c16e62-bfd0-43c7-9635-c86cc1401457",
   "metadata": {},
   "source": [
    "### Question 15: How to install Python on Windows and set path variables:\n",
    "\n",
    "Answer: \n",
    "1. Right-click on PC and go to Properties.\n",
    "\n",
    "2. Click on the Advanced system settings in the menu on the left.\n",
    "\n",
    "3. Click on the Environment Variables button on the bottom right.\n",
    "\n",
    "4. In the System variables section, select the Path variable and click on Edit. \n",
    "\n",
    "5. The next screen will show all the directories that are currently a part of the PATH variable.\n",
    "\n",
    "6. Click on New and enter Python’s install directory."
   ]
  },
  {
   "cell_type": "markdown",
   "id": "caf33035-4df5-49f3-8746-35a8936c3c81",
   "metadata": {},
   "source": [
    "### Question 16: Is indentation required in python?\n",
    "\n",
    "Answer: Yes. Because Python uses indentation to indicate a block of code."
   ]
  },
  {
   "cell_type": "markdown",
   "id": "943288d5-b8b3-4f08-9b58-742d0038a9bf",
   "metadata": {},
   "source": [
    "## The End!\n",
    "\n",
    "### Thank You."
   ]
  },
  {
   "cell_type": "code",
   "execution_count": null,
   "id": "dfb623b2-a1eb-43b7-96fa-b9c3c7ef14bf",
   "metadata": {},
   "outputs": [],
   "source": []
  }
 ],
 "metadata": {
  "kernelspec": {
   "display_name": "Python 3 (ipykernel)",
   "language": "python",
   "name": "python3"
  },
  "language_info": {
   "codemirror_mode": {
    "name": "ipython",
    "version": 3
   },
   "file_extension": ".py",
   "mimetype": "text/x-python",
   "name": "python",
   "nbconvert_exporter": "python",
   "pygments_lexer": "ipython3",
   "version": "3.10.8"
  }
 },
 "nbformat": 4,
 "nbformat_minor": 5
}
